{
 "cells": [
  {
   "cell_type": "code",
   "execution_count": 124,
   "metadata": {
    "collapsed": true
   },
   "outputs": [],
   "source": [
    "import numpy as np\n",
    "import pandas as pd\n",
    "import requests\n",
    "import json\n",
    "import os\n",
    "import cPickle as pickle\n",
    "from nltk.corpus import stopwords\n",
    "from nltk.tokenize import RegexpTokenizer\n",
    "\n",
    "app_path = '/Users/nmouterde/Documents/projectsPython/steam-game-engine/'"
   ]
  },
  {
   "cell_type": "code",
   "execution_count": 112,
   "metadata": {
    "collapsed": true
   },
   "outputs": [],
   "source": [
    "tkn = RegexpTokenizer(r'\\w+')\n",
    "stoplist = stopwords.words('english')"
   ]
  },
  {
   "cell_type": "code",
   "execution_count": 127,
   "metadata": {},
   "outputs": [],
   "source": [
    "data = pickle.load(open(os.path.join(app_path, 'data_processed/scrap_df.f'), 'rb'))"
   ]
  },
  {
   "cell_type": "code",
   "execution_count": 114,
   "metadata": {
    "collapsed": true
   },
   "outputs": [],
   "source": [
    "data['cat1'] = data['name'].str.lower()\n",
    "data['cat2'] = (data['cat'] + ' '\n",
    "                      +data['genres']).str.lower()\n",
    "data['cat3'] = np.where(data['f_desc'] == data['about'],\n",
    "                              (data['f_desc'] + ' ' +\n",
    "                               data['about']).str.lower(),\n",
    "                              data['f_desc'].str.lower())"
   ]
  },
  {
   "cell_type": "code",
   "execution_count": 115,
   "metadata": {},
   "outputs": [
    {
     "data": {
      "text/html": [
       "<div>\n",
       "<style>\n",
       "    .dataframe thead tr:only-child th {\n",
       "        text-align: right;\n",
       "    }\n",
       "\n",
       "    .dataframe thead th {\n",
       "        text-align: left;\n",
       "    }\n",
       "\n",
       "    .dataframe tbody tr th {\n",
       "        vertical-align: top;\n",
       "    }\n",
       "</style>\n",
       "<table border=\"1\" class=\"dataframe\">\n",
       "  <thead>\n",
       "    <tr style=\"text-align: right;\">\n",
       "      <th></th>\n",
       "      <th>id</th>\n",
       "      <th>name</th>\n",
       "      <th>f_desc</th>\n",
       "      <th>s_desc</th>\n",
       "      <th>about</th>\n",
       "      <th>dev</th>\n",
       "      <th>pub</th>\n",
       "      <th>cat</th>\n",
       "      <th>genres</th>\n",
       "      <th>score</th>\n",
       "      <th>nb_rec</th>\n",
       "      <th>cat1</th>\n",
       "      <th>cat2</th>\n",
       "      <th>cat3</th>\n",
       "    </tr>\n",
       "  </thead>\n",
       "  <tbody>\n",
       "    <tr>\n",
       "      <th>0</th>\n",
       "      <td>10</td>\n",
       "      <td>Counter-Strike</td>\n",
       "      <td>Play the world's number 1 online action game. ...</td>\n",
       "      <td></td>\n",
       "      <td>Play the world's number 1 online action game. ...</td>\n",
       "      <td>Valve</td>\n",
       "      <td>Valve</td>\n",
       "      <td>Multi-player Valve Anti-Cheat enabled</td>\n",
       "      <td>Action</td>\n",
       "      <td>97</td>\n",
       "      <td>93978</td>\n",
       "      <td>counter-strike</td>\n",
       "      <td>multi-player valve anti-cheat enabled action</td>\n",
       "      <td>play the world's number 1 online action game. ...</td>\n",
       "    </tr>\n",
       "    <tr>\n",
       "      <th>1</th>\n",
       "      <td>20</td>\n",
       "      <td>Team Fortress Classic</td>\n",
       "      <td>One of the most popular online action games of...</td>\n",
       "      <td></td>\n",
       "      <td>One of the most popular online action games of...</td>\n",
       "      <td>Valve</td>\n",
       "      <td>Valve</td>\n",
       "      <td>Multi-player Valve Anti-Cheat enabled</td>\n",
       "      <td>Action</td>\n",
       "      <td>53</td>\n",
       "      <td>3022</td>\n",
       "      <td>team fortress classic</td>\n",
       "      <td>multi-player valve anti-cheat enabled action</td>\n",
       "      <td>one of the most popular online action games of...</td>\n",
       "    </tr>\n",
       "  </tbody>\n",
       "</table>\n",
       "</div>"
      ],
      "text/plain": [
       "   id                   name  \\\n",
       "0  10         Counter-Strike   \n",
       "1  20  Team Fortress Classic   \n",
       "\n",
       "                                              f_desc s_desc  \\\n",
       "0  Play the world's number 1 online action game. ...          \n",
       "1  One of the most popular online action games of...          \n",
       "\n",
       "                                               about    dev    pub  \\\n",
       "0  Play the world's number 1 online action game. ...  Valve  Valve   \n",
       "1  One of the most popular online action games of...  Valve  Valve   \n",
       "\n",
       "                                     cat  genres  score  nb_rec  \\\n",
       "0  Multi-player Valve Anti-Cheat enabled  Action     97   93978   \n",
       "1  Multi-player Valve Anti-Cheat enabled  Action     53    3022   \n",
       "\n",
       "                    cat1                                          cat2  \\\n",
       "0         counter-strike  multi-player valve anti-cheat enabled action   \n",
       "1  team fortress classic  multi-player valve anti-cheat enabled action   \n",
       "\n",
       "                                                cat3  \n",
       "0  play the world's number 1 online action game. ...  \n",
       "1  one of the most popular online action games of...  "
      ]
     },
     "execution_count": 115,
     "metadata": {},
     "output_type": "execute_result"
    }
   ],
   "source": [
    "data"
   ]
  },
  {
   "cell_type": "code",
   "execution_count": 116,
   "metadata": {
    "collapsed": true,
    "scrolled": true
   },
   "outputs": [],
   "source": [
    "cols = ['cat1', 'cat2', 'cat3']\n",
    "for col in cols:\n",
    "    data[col] = data.apply(lambda x: tkn.tokenize(x[col]), axis=1)\n",
    "    data[col] = data.apply(lambda x: [w for w in x[col] \n",
    "                                     if w not in stoplist and len(w)>1],\n",
    "                           axis=1) \n",
    "    data[col+'_non_tk'] = data.apply(lambda x: ' '.join(x[col]), axis=1)"
   ]
  },
  {
   "cell_type": "code",
   "execution_count": 123,
   "metadata": {
    "collapsed": true
   },
   "outputs": [],
   "source": [
    "pickle.dump(data, open(os.path.join(app_path, 'data_processed/clean_data.p'), 'wb'))"
   ]
  },
  {
   "cell_type": "code",
   "execution_count": 70,
   "metadata": {
    "collapsed": true
   },
   "outputs": [],
   "source": []
  },
  {
   "cell_type": "code",
   "execution_count": 84,
   "metadata": {},
   "outputs": [
    {
     "name": "stdout",
     "output_type": "stream",
     "text": [
      "51\n",
      "51\n",
      "[u'abilities', u'action', u'affects', u'ally', u'based', u'brand', u'character', u'class', u'classes', u'classic', u'compete', u'complete', u'demolition', u'enemy', u'engage', u'enlisted', u'features', u'fortress', u'game', u'games', u'hostages', u'incredibly', u'items', u'man', u'medic', u'missions', u'modes', u'number', u'online', u'play', u'popular', u'possesses', u'realistic', u'rescue', u'role', u'sites', u'spy', u'strategic', u'style', u'success', u'team', u'teammates', u'teams', u'terrorist', u'time', u'unique', u'variety', u'warfare', u'weapons', u'wildly', u'world']\n",
      "[[ 0.          0.13241578  0.26229445  0.18610575  0.18610575  0.18610575\n",
      "   0.          0.          0.          0.          0.          0.18610575\n",
      "   0.          0.18610575  0.18610575  0.          0.          0.\n",
      "   0.18662466  0.          0.18610575  0.18610575  0.          0.          0.\n",
      "   0.18610575  0.          0.18610575  0.13241578  0.13241578  0.13241578\n",
      "   0.          0.18610575  0.18610575  0.26229445  0.18610575  0.\n",
      "   0.18610575  0.          0.26229445  0.21833483  0.18610575  0.\n",
      "   0.18610575  0.          0.          0.          0.13241578  0.\n",
      "   0.18610575  0.18610575]\n",
      " [ 0.18292246  0.13015084  0.          0.          0.          0.\n",
      "   0.25780797  0.18292246  0.18292246  0.18292246  0.18292246  0.\n",
      "   0.18292246  0.          0.          0.18292246  0.18292246  0.18292246\n",
      "   0.13015084  0.18292246  0.          0.          0.18292246  0.18292246\n",
      "   0.18292246  0.          0.18292246  0.          0.21460026  0.13015084\n",
      "   0.13015084  0.18292246  0.          0.          0.          0.\n",
      "   0.18292246  0.          0.18292246  0.          0.18343249  0.\n",
      "   0.18292246  0.          0.18292246  0.25780797  0.18292246  0.13015084\n",
      "   0.18292246  0.          0.        ]]\n",
      "[ list([u'play', u'world', u'number', u'online', u'action', u'game', u'engage', u'incredibly', u'realistic', u'brand', u'terrorist', u'warfare', u'wildly', u'popular', u'team', u'based', u'game', u'ally', u'teammates', u'complete', u'strategic', u'missions', u'take', u'enemy', u'sites', u'rescue', u'hostages', u'role', u'affects', u'team', u'success', u'team', u'success', u'affects', u'role', u'play', u'world', u'number', u'online', u'action', u'game', u'engage', u'incredibly', u'realistic', u'brand', u'terrorist', u'warfare', u'wildly', u'popular', u'team', u'based', u'game', u'ally', u'teammates', u'complete', u'strategic', u'missions', u'take', u'enemy', u'sites', u'rescue', u'hostages', u'role', u'affects', u'team', u'success', u'team', u'success', u'affects', u'role'])\n",
      " list([u'one', u'popular', u'online', u'action', u'games', u'time', u'team', u'fortress', u'classic', u'features', u'nine', u'character', u'classes', u'medic', u'spy', u'demolition', u'man', u'enlisted', u'unique', u'style', u'online', u'team', u'warfare', u'character', u'class', u'possesses', u'unique', u'weapons', u'items', u'abilities', u'teams', u'compete', u'online', u'variety', u'game', u'play', u'modes', u'one', u'popular', u'online', u'action', u'games', u'time', u'team', u'fortress', u'classic', u'features', u'nine', u'character', u'classes', u'medic', u'spy', u'demolition', u'man', u'enlisted', u'unique', u'style', u'online', u'team', u'warfare', u'character', u'class', u'possesses', u'unique', u'weapons', u'items', u'abilities', u'teams', u'compete', u'online', u'variety', u'game', u'play', u'modes'])]\n"
     ]
    }
   ],
   "source": [
    "print len(X[0])\n",
    "print len(vect.get_feature_names())\n",
    "print vect.get_feature_names()\n",
    "print X\n",
    "print data.cat3.values"
   ]
  }
 ],
 "metadata": {
  "kernelspec": {
   "display_name": "Python 2",
   "language": "python",
   "name": "python2"
  },
  "language_info": {
   "codemirror_mode": {
    "name": "ipython",
    "version": 2
   },
   "file_extension": ".py",
   "mimetype": "text/x-python",
   "name": "python",
   "nbconvert_exporter": "python",
   "pygments_lexer": "ipython2",
   "version": "2.7.13"
  }
 },
 "nbformat": 4,
 "nbformat_minor": 2
}
