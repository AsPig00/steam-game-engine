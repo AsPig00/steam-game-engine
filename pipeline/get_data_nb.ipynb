{
 "cells": [
  {
   "cell_type": "code",
   "execution_count": 10,
   "metadata": {
    "collapsed": true
   },
   "outputs": [],
   "source": [
    "import numpy as np\n",
    "import pandas as pd\n",
    "import requests\n",
    "import json\n",
    "import feather\n",
    "import os"
   ]
  },
  {
   "cell_type": "code",
   "execution_count": 8,
   "metadata": {
    "collapsed": true
   },
   "outputs": [],
   "source": [
    "steam_id_url = 'http://api.steampowered.com/ISteamApps/GetAppList/v2'\n",
    "steam_details_api = 'http://store.steampowered.com/api/appdetails/?appids='\n",
    "ratings_api = 'http://steamspy.com/api.php?request=appdetails&appid='\n",
    "app_path = '/Users/nmouterde/Documents/projectsPython/steam-game-engine/'"
   ]
  },
  {
   "cell_type": "code",
   "execution_count": 3,
   "metadata": {
    "collapsed": true
   },
   "outputs": [],
   "source": [
    "steam_ids = requests.get(steam_id_url)"
   ]
  },
  {
   "cell_type": "code",
   "execution_count": 4,
   "metadata": {
    "collapsed": true
   },
   "outputs": [],
   "source": [
    "steam_ids = json.loads(steam_ids.text)"
   ]
  },
  {
   "cell_type": "code",
   "execution_count": 5,
   "metadata": {
    "collapsed": true
   },
   "outputs": [],
   "source": [
    "df_steam_ids = pd.DataFrame.from_dict(steam_ids['applist']['apps'])"
   ]
  },
  {
   "cell_type": "code",
   "execution_count": 33,
   "metadata": {
    "scrolled": true
   },
   "outputs": [
    {
     "name": "stdout",
     "output_type": "stream",
     "text": [
      "None\n",
      "None\n"
     ]
    }
   ],
   "source": [
    "games = []\n",
    "for id_app in df_steam_ids.appid.values[:5]:\n",
    "    api_call = requests.get(steam_details_api + str(id_app))\n",
    "    rates_call = requests.get(ratings_api + str(id_app))\n",
    "    rates = json.loads(rates_call.text)\n",
    "    app_desc = json.loads(api_call.text)\n",
    "    game = app_desc[app_desc.keys()[0]]\n",
    "    if game['success']:\n",
    "        game_info = game['data']\n",
    "        if game_info['type'] == \"game\":\n",
    "            cats = [cat['description'] for cat in game_info['categories']]\n",
    "            cats = ' '.join(cats)\n",
    "            genres = [genre['description'] for genre in game_info['genres']]\n",
    "            genres = ' '.join(genres)\n",
    "\n",
    "            new_game = [game_info['steam_appid'], game_info['name'],\n",
    "                          game_info['detailed_description'],\n",
    "                          game_info['short_description'], \n",
    "                          game_info['about_the_game'],\n",
    "                          game_info['developers'][0],\n",
    "                          game_info['publishers'][0],\n",
    "                          cats, genres,\n",
    "                          rates['score_rank']]\n",
    "            \n",
    "\n",
    "            if 'recommendations' not in game_info:\n",
    "                new_game.append(0)\n",
    "            else:\n",
    "                new_game.append(game_info['recommendations']['total'])\n",
    "            \n",
    "            games.append(new_game)\n",
    "            \n",
    "\n",
    "df_cols = ['id', 'name',\n",
    "           'f_desc', 's_desc','about',\n",
    "           'dev' , 'pub', 'cat',\n",
    "           'genres', 'score', 'nb_rec']\n",
    "\n",
    "df_info = pd.DataFrame.from_records(games, columns=df_cols)       "
   ]
  },
  {
   "cell_type": "code",
   "execution_count": 35,
   "metadata": {},
   "outputs": [],
   "source": [
    "feather.write_dataframe(df_info, os.path.join('/Users/nmouterde/Documents/projectsPython/steam-game-engine/data_processed/scrap_df.f'))"
   ]
  }
 ],
 "metadata": {
  "kernelspec": {
   "display_name": "Python 2",
   "language": "python",
   "name": "python2"
  },
  "language_info": {
   "codemirror_mode": {
    "name": "ipython",
    "version": 2
   },
   "file_extension": ".py",
   "mimetype": "text/x-python",
   "name": "python",
   "nbconvert_exporter": "python",
   "pygments_lexer": "ipython2",
   "version": "2.7.13"
  }
 },
 "nbformat": 4,
 "nbformat_minor": 2
}
