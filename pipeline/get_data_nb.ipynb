{
 "cells": [
  {
   "cell_type": "code",
   "execution_count": 1,
   "metadata": {
    "collapsed": true
   },
   "outputs": [],
   "source": [
    "import numpy as np\n",
    "import pandas as pd\n",
    "import requests\n",
    "import json"
   ]
  },
  {
   "cell_type": "code",
   "execution_count": 52,
   "metadata": {
    "collapsed": true
   },
   "outputs": [],
   "source": [
    "steam_id_url = 'http://api.steampowered.com/ISteamApps/GetAppList/v2'\n",
    "steam_details_api = 'http://store.steampowered.com/api/appdetails/?appids='\n",
    "ratings_api = 'http://steamspy.com/api.php?request=appdetails&appid='"
   ]
  },
  {
   "cell_type": "code",
   "execution_count": 4,
   "metadata": {
    "collapsed": true
   },
   "outputs": [],
   "source": [
    "steam_ids = requests.get(steam_id_url)"
   ]
  },
  {
   "cell_type": "code",
   "execution_count": 5,
   "metadata": {
    "collapsed": true
   },
   "outputs": [],
   "source": [
    "steam_ids = json.loads(steam_ids.text)"
   ]
  },
  {
   "cell_type": "code",
   "execution_count": 6,
   "metadata": {
    "collapsed": true
   },
   "outputs": [],
   "source": [
    "df_steam_ids = pd.DataFrame.from_dict(steam_ids['applist']['apps'])"
   ]
  },
  {
   "cell_type": "code",
   "execution_count": 53,
   "metadata": {
    "scrolled": true
   },
   "outputs": [
    {
     "name": "stdout",
     "output_type": "stream",
     "text": [
      "Multi-player Valve Anti-Cheat enabled\n",
      "Action\n",
      "Multi-player Valve Anti-Cheat enabled\n",
      "Action\n"
     ]
    }
   ],
   "source": [
    "games = []\n",
    "for id_app in df_steam_ids.appid.values[:5]:\n",
    "    api_call = requests.get(steam_details_api + str(id_app))\n",
    "    rates_call = requests.get(ratings_api + str(id_app))\n",
    "    rates = json.loads(rates_call.text)\n",
    "    app_desc = json.loads(api_call.text)\n",
    "    game = app_desc[app_desc.keys()[0]]\n",
    "    if game['success']:\n",
    "        game_info = game['data']\n",
    "        if game_info['type'] == \"game\":\n",
    "            cats = [cat['description'] for cat in game_info['categories']]\n",
    "            cats = ' '.join(cats)\n",
    "            genres = [genre['description'] for genre in game_info['genres']]\n",
    "            genres = ' '.join(genres)\n",
    "            games.append((game_info['steam_appid'], game_info['name'],\n",
    "                          game_info['detailed_description'],\n",
    "                          game_info['short_description'], \n",
    "                          game_info['about_the_game'],\n",
    "                          game_info['developers'],\n",
    "                          game_info['publishers'],\n",
    "                          cats, genres,\n",
    "                          game_info['recommendations']['total'],\n",
    "                          rates['score_rank']))\n",
    "\n",
    "df_cols = ['id', 'name',\n",
    "           'f_desc', 's_desc','about',\n",
    "           'dev' , 'pub', 'cat',\n",
    "           'genres', 'nb_rec', 'score']\n",
    "df_info = pd.DataFrame.from_records(games, columns=df_cols)       "
   ]
  },
  {
   "cell_type": "code",
   "execution_count": 54,
   "metadata": {},
   "outputs": [
    {
     "data": {
      "text/html": [
       "<div>\n",
       "<style>\n",
       "    .dataframe thead tr:only-child th {\n",
       "        text-align: right;\n",
       "    }\n",
       "\n",
       "    .dataframe thead th {\n",
       "        text-align: left;\n",
       "    }\n",
       "\n",
       "    .dataframe tbody tr th {\n",
       "        vertical-align: top;\n",
       "    }\n",
       "</style>\n",
       "<table border=\"1\" class=\"dataframe\">\n",
       "  <thead>\n",
       "    <tr style=\"text-align: right;\">\n",
       "      <th></th>\n",
       "      <th>id</th>\n",
       "      <th>name</th>\n",
       "      <th>f_desc</th>\n",
       "      <th>s_desc</th>\n",
       "      <th>about</th>\n",
       "      <th>dev</th>\n",
       "      <th>pub</th>\n",
       "      <th>cat</th>\n",
       "      <th>genres</th>\n",
       "      <th>nb_rec</th>\n",
       "      <th>score</th>\n",
       "    </tr>\n",
       "  </thead>\n",
       "  <tbody>\n",
       "    <tr>\n",
       "      <th>0</th>\n",
       "      <td>10</td>\n",
       "      <td>Counter-Strike</td>\n",
       "      <td>Play the world's number 1 online action game. ...</td>\n",
       "      <td></td>\n",
       "      <td>Play the world's number 1 online action game. ...</td>\n",
       "      <td>[Valve]</td>\n",
       "      <td>[Valve]</td>\n",
       "      <td>Multi-player Valve Anti-Cheat enabled</td>\n",
       "      <td>Action</td>\n",
       "      <td>93917</td>\n",
       "      <td>97</td>\n",
       "    </tr>\n",
       "    <tr>\n",
       "      <th>1</th>\n",
       "      <td>20</td>\n",
       "      <td>Team Fortress Classic</td>\n",
       "      <td>One of the most popular online action games of...</td>\n",
       "      <td></td>\n",
       "      <td>One of the most popular online action games of...</td>\n",
       "      <td>[Valve]</td>\n",
       "      <td>[Valve]</td>\n",
       "      <td>Multi-player Valve Anti-Cheat enabled</td>\n",
       "      <td>Action</td>\n",
       "      <td>3020</td>\n",
       "      <td>53</td>\n",
       "    </tr>\n",
       "  </tbody>\n",
       "</table>\n",
       "</div>"
      ],
      "text/plain": [
       "   id                   name  \\\n",
       "0  10         Counter-Strike   \n",
       "1  20  Team Fortress Classic   \n",
       "\n",
       "                                              f_desc s_desc  \\\n",
       "0  Play the world's number 1 online action game. ...          \n",
       "1  One of the most popular online action games of...          \n",
       "\n",
       "                                               about      dev      pub  \\\n",
       "0  Play the world's number 1 online action game. ...  [Valve]  [Valve]   \n",
       "1  One of the most popular online action games of...  [Valve]  [Valve]   \n",
       "\n",
       "                                     cat  genres  nb_rec  score  \n",
       "0  Multi-player Valve Anti-Cheat enabled  Action   93917     97  \n",
       "1  Multi-player Valve Anti-Cheat enabled  Action    3020     53  "
      ]
     },
     "execution_count": 54,
     "metadata": {},
     "output_type": "execute_result"
    }
   ],
   "source": [
    "df_info.head()"
   ]
  }
 ],
 "metadata": {
  "kernelspec": {
   "display_name": "Python 2",
   "language": "python",
   "name": "python2"
  },
  "language_info": {
   "codemirror_mode": {
    "name": "ipython",
    "version": 2
   },
   "file_extension": ".py",
   "mimetype": "text/x-python",
   "name": "python",
   "nbconvert_exporter": "python",
   "pygments_lexer": "ipython2",
   "version": "2.7.13"
  }
 },
 "nbformat": 4,
 "nbformat_minor": 2
}
