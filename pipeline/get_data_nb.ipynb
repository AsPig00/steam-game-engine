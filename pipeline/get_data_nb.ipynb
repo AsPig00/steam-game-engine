{
 "cells": [
  {
   "cell_type": "code",
   "execution_count": 5,
   "metadata": {
    "collapsed": true
   },
   "outputs": [],
   "source": [
    "import numpy as np\n",
    "import pandas as pd\n",
    "import requests\n",
    "import json"
   ]
  },
  {
   "cell_type": "code",
   "execution_count": 7,
   "metadata": {},
   "outputs": [],
   "source": [
    "steam_id_url = 'http://api.steampowered.com/ISteamApps/GetAppList/v2'"
   ]
  },
  {
   "cell_type": "code",
   "execution_count": 8,
   "metadata": {
    "collapsed": true
   },
   "outputs": [],
   "source": [
    "steam_ids = requests.get(steam_id_url)"
   ]
  },
  {
   "cell_type": "code",
   "execution_count": 10,
   "metadata": {},
   "outputs": [],
   "source": [
    "steam_ids = json.loads(steam_ids.text)"
   ]
  },
  {
   "cell_type": "code",
   "execution_count": 24,
   "metadata": {},
   "outputs": [],
   "source": [
    "df_steam_ids = pd.DataFrame.from_dict(steam_ids['applist']['apps'])"
   ]
  },
  {
   "cell_type": "code",
   "execution_count": 41,
   "metadata": {},
   "outputs": [
    {
     "name": "stdout",
     "output_type": "stream",
     "text": [
      "dict_items([(u'5', {u'success': False})])\n",
      "dict_items([(u'7', {u'success': False})])\n",
      "dict_items([(u'8', {u'success': False})])\n",
      "dict_items([(u'10', {u'data': {u'steam_appid': 10, u'achievements': {u'total': 0}, u'price_overview': {u'currency': u'GBP', u'initial': 699, u'final': 699, u'discount_percent': 0}, u'platforms': {u'windows': True, u'mac': True, u'linux': True}, u'detailed_description': u\"Play the world's number 1 online action game. Engage in an incredibly realistic brand of terrorist warfare in this wildly popular team-based game. Ally with teammates to complete strategic missions. Take out enemy sites. Rescue hostages. Your role affects your team's success. Your team's success affects your role.\", u'screenshots': [{u'path_thumbnail': u'http://cdn.akamai.steamstatic.com/steam/apps/10/0000000132.600x338.jpg?t=1447887426', u'id': 0, u'path_full': u'http://cdn.akamai.steamstatic.com/steam/apps/10/0000000132.1920x1080.jpg?t=1447887426'}, {u'path_thumbnail': u'http://cdn.akamai.steamstatic.com/steam/apps/10/0000000133.600x338.jpg?t=1447887426', u'id': 1, u'path_full': u'http://cdn.akamai.steamstatic.com/steam/apps/10/0000000133.1920x1080.jpg?t=1447887426'}, {u'path_thumbnail': u'http://cdn.akamai.steamstatic.com/steam/apps/10/0000000134.600x338.jpg?t=1447887426', u'id': 2, u'path_full': u'http://cdn.akamai.steamstatic.com/steam/apps/10/0000000134.1920x1080.jpg?t=1447887426'}, {u'path_thumbnail': u'http://cdn.akamai.steamstatic.com/steam/apps/10/0000000135.600x338.jpg?t=1447887426', u'id': 3, u'path_full': u'http://cdn.akamai.steamstatic.com/steam/apps/10/0000000135.1920x1080.jpg?t=1447887426'}, {u'path_thumbnail': u'http://cdn.akamai.steamstatic.com/steam/apps/10/0000000136.600x338.jpg?t=1447887426', u'id': 4, u'path_full': u'http://cdn.akamai.steamstatic.com/steam/apps/10/0000000136.1920x1080.jpg?t=1447887426'}, {u'path_thumbnail': u'http://cdn.akamai.steamstatic.com/steam/apps/10/0000002540.600x338.jpg?t=1447887426', u'id': 5, u'path_full': u'http://cdn.akamai.steamstatic.com/steam/apps/10/0000002540.1920x1080.jpg?t=1447887426'}, {u'path_thumbnail': u'http://cdn.akamai.steamstatic.com/steam/apps/10/0000002539.600x338.jpg?t=1447887426', u'id': 6, u'path_full': u'http://cdn.akamai.steamstatic.com/steam/apps/10/0000002539.1920x1080.jpg?t=1447887426'}, {u'path_thumbnail': u'http://cdn.akamai.steamstatic.com/steam/apps/10/0000002538.600x338.jpg?t=1447887426', u'id': 7, u'path_full': u'http://cdn.akamai.steamstatic.com/steam/apps/10/0000002538.1920x1080.jpg?t=1447887426'}, {u'path_thumbnail': u'http://cdn.akamai.steamstatic.com/steam/apps/10/0000002537.600x338.jpg?t=1447887426', u'id': 8, u'path_full': u'http://cdn.akamai.steamstatic.com/steam/apps/10/0000002537.1920x1080.jpg?t=1447887426'}, {u'path_thumbnail': u'http://cdn.akamai.steamstatic.com/steam/apps/10/0000002536.600x338.jpg?t=1447887426', u'id': 9, u'path_full': u'http://cdn.akamai.steamstatic.com/steam/apps/10/0000002536.1920x1080.jpg?t=1447887426'}, {u'path_thumbnail': u'http://cdn.akamai.steamstatic.com/steam/apps/10/0000002541.600x338.jpg?t=1447887426', u'id': 10, u'path_full': u'http://cdn.akamai.steamstatic.com/steam/apps/10/0000002541.1920x1080.jpg?t=1447887426'}, {u'path_thumbnail': u'http://cdn.akamai.steamstatic.com/steam/apps/10/0000002542.600x338.jpg?t=1447887426', u'id': 11, u'path_full': u'http://cdn.akamai.steamstatic.com/steam/apps/10/0000002542.1920x1080.jpg?t=1447887426'}, {u'path_thumbnail': u'http://cdn.akamai.steamstatic.com/steam/apps/10/0000002543.600x338.jpg?t=1447887426', u'id': 12, u'path_full': u'http://cdn.akamai.steamstatic.com/steam/apps/10/0000002543.1920x1080.jpg?t=1447887426'}], u'genres': [{u'id': u'1', u'description': u'Action'}], u'required_age': 0, u'metacritic': {u'url': u'http://www.metacritic.com/game/pc/counter-strike?ftag=MCD-06-10aaa1f', u'score': 88}, u'about_the_game': u\"Play the world's number 1 online action game. Engage in an incredibly realistic brand of terrorist warfare in this wildly popular team-based game. Ally with teammates to complete strategic missions. Take out enemy sites. Rescue hostages. Your role affects your team's success. Your team's success affects your role.\", u'short_description': u'', u'developers': [u'Valve'], u'type': u'game', u'supported_languages': u'English, French, German, Italian, Spanish, Simplified Chinese, Traditional Chinese, Korean', u'website': None, u'publishers': [u'Valve'], u'pc_requirements': {u'minimum': u'\\n\\t\\t\\t<p><strong>Minimum:</strong> 500 mhz processor, 96mb ram, 16mb video card, Windows XP, Mouse, Keyboard, Internet Connection<br /></p>\\n\\t\\t\\t<p><strong>Recommended:</strong> 800 mhz processor, 128mb ram, 32mb+ video card, Windows XP, Mouse, Keyboard, Internet Connection<br /></p>\\n\\t\\t\\t'}, u'recommendations': {u'total': 93887}, u'is_free': False, u'background': u'http://cdn.akamai.steamstatic.com/steam/apps/10/page_bg_generated_v6b.jpg?t=1447887426', u'packages': [u'7'], u'categories': [{u'id': 1, u'description': u'Multi-player'}, {u'id': 8, u'description': u'Valve Anti-Cheat enabled'}], u'support_info': {u'url': u'http://steamcommunity.com/app/10', u'email': u''}, u'name': u'Counter-Strike', u'package_groups': [{u'description': u'', u'title': u'Buy Counter-Strike', u'selection_text': u'Select a purchase option', u'subs': [{u'price_in_cents_with_discount': 699, u'option_description': u'', u'can_get_free_license': u'0', u'is_free_license': False, u'packageid': u'7', u'percent_savings_text': u'', u'option_text': u'Counter-Strike: Condition Zero - \\xa36.99', u'percent_savings': 0}], u'display_type': 0, u'is_recurring_subscription': u'false', u'save_text': u'', u'name': u'default'}], u'release_date': {u'date': u'1 Nov, 2000', u'coming_soon': False}, u'linux_requirements': {u'minimum': u'Minimum: Linux Ubuntu 12.04, Dual-core from Intel or AMD at 2.8 GHz, 1GB Memory, nVidia GeForce 8600/9600GT, ATI/AMD Radeaon HD2600/3600 (Graphic Drivers: nVidia 310, AMD 12.11), OpenGL 2.1, 4GB Hard Drive Space, OpenAL Compatible Sound Card'}, u'mac_requirements': {u'minimum': u'Minimum: OS X  Snow Leopard 10.6.3, 1GB RAM, 4GB Hard Drive Space,NVIDIA GeForce 8 or higher, ATI X1600 or higher, or Intel HD 3000 or higher Mouse, Keyboard, Internet Connection'}, u'header_image': u'http://cdn.akamai.steamstatic.com/steam/apps/10/header.jpg?t=1447887426'}, u'success': True})])\n",
      "dict_items([(u'20', {u'data': {u'steam_appid': 20, u'achievements': {u'total': 0}, u'price_overview': {u'currency': u'GBP', u'initial': 399, u'final': 399, u'discount_percent': 0}, u'platforms': {u'windows': True, u'mac': True, u'linux': True}, u'detailed_description': u\"Team Fortress Classic, un des jeux d'action en ligne les plus populaires de tous les temps, vous propose plus de neuf classes de personnages (de l'infirmier \\xe0 l'espion, en passant par l'artificier), tous engag\\xe9s dans une guerre en ligne par \\xe9quipe au style unique. Chaque classe de personnage poss\\xe8de ses propres armes, outils et comp\\xe9tences dans cette aventure en ligne \\xe0 plusieurs modes de jeu.\", u'screenshots': [{u'path_thumbnail': u'http://cdn.akamai.steamstatic.com/steam/apps/20/0000000164.600x338.jpg?t=1447350811', u'id': 0, u'path_full': u'http://cdn.akamai.steamstatic.com/steam/apps/20/0000000164.1920x1080.jpg?t=1447350811'}, {u'path_thumbnail': u'http://cdn.akamai.steamstatic.com/steam/apps/20/0000000165.600x338.jpg?t=1447350811', u'id': 1, u'path_full': u'http://cdn.akamai.steamstatic.com/steam/apps/20/0000000165.1920x1080.jpg?t=1447350811'}, {u'path_thumbnail': u'http://cdn.akamai.steamstatic.com/steam/apps/20/0000000166.600x338.jpg?t=1447350811', u'id': 2, u'path_full': u'http://cdn.akamai.steamstatic.com/steam/apps/20/0000000166.1920x1080.jpg?t=1447350811'}, {u'path_thumbnail': u'http://cdn.akamai.steamstatic.com/steam/apps/20/0000000167.600x338.jpg?t=1447350811', u'id': 3, u'path_full': u'http://cdn.akamai.steamstatic.com/steam/apps/20/0000000167.1920x1080.jpg?t=1447350811'}, {u'path_thumbnail': u'http://cdn.akamai.steamstatic.com/steam/apps/20/0000000168.600x338.jpg?t=1447350811', u'id': 4, u'path_full': u'http://cdn.akamai.steamstatic.com/steam/apps/20/0000000168.1920x1080.jpg?t=1447350811'}], u'genres': [{u'id': u'1', u'description': u'Action'}], u'required_age': 0, u'about_the_game': u\"Team Fortress Classic, un des jeux d'action en ligne les plus populaires de tous les temps, vous propose plus de neuf classes de personnages (de l'infirmier \\xe0 l'espion, en passant par l'artificier), tous engag\\xe9s dans une guerre en ligne par \\xe9quipe au style unique. Chaque classe de personnage poss\\xe8de ses propres armes, outils et comp\\xe9tences dans cette aventure en ligne \\xe0 plusieurs modes de jeu.\", u'short_description': u'', u'developers': [u'Valve'], u'type': u'game', u'supported_languages': u'Anglais, Fran\\xe7ais, Allemand, Italien, Espagnol', u'website': None, u'publishers': [u'Valve'], u'pc_requirements': {u'minimum': u'<p><strong>Minimale&nbsp;:</strong> processeur 500&nbsp;MHz, 96&nbsp;Mo de RAM, carte vid\\xe9o 16&nbsp;Mo, Windows&nbsp;XP, souris, clavier, connexion Internet<br /></p>\\n\\n<p><strong>Recommand\\xe9e&nbsp;:</strong> processeur 800&nbsp;MHz, 128&nbsp;Mo de RAM, carte vid\\xe9o 32&nbsp;Mo ou sup\\xe9rieure, Windows&nbsp;XP, souris, clavier, connexion Internet<br /></p>'}, u'recommendations': {u'total': 3019}, u'is_free': False, u'background': u'http://cdn.akamai.steamstatic.com/steam/apps/20/page_bg_generated_v6b.jpg?t=1447350811', u'packages': [29], u'categories': [{u'id': 1, u'description': u'Multijoueur'}, {u'id': 8, u'description': u'Valve Anti-triche activ\\xe9'}], u'support_info': {u'url': u'', u'email': u''}, u'name': u'Team Fortress Classic', u'package_groups': [{u'description': u'', u'title': u'Acheter Team Fortress Classic', u'selection_text': u\"Option d'achat\", u'subs': [{u'price_in_cents_with_discount': 399, u'option_description': u'', u'can_get_free_license': u'0', u'is_free_license': False, u'packageid': 29, u'percent_savings_text': u'', u'option_text': u'Team Fortress Classic - \\xa33.99', u'percent_savings': 0}], u'display_type': 0, u'is_recurring_subscription': u'false', u'save_text': u'', u'name': u'default'}], u'release_date': {u'date': u'1 avr. 1999', u'coming_soon': False}, u'linux_requirements': {u'minimum': u'Minimum: Linux Ubuntu 12.04, Dual-core from Intel or AMD at 2.8 GHz, 1GB Memory, nVidia GeForce 8600/9600GT, ATI/AMD Radeaon HD2600/3600 (Graphic Drivers: nVidia 310, AMD 12.11), OpenGL 2.1, 4GB Hard Drive Space, OpenAL Compatible Sound Card'}, u'mac_requirements': {u'minimum': u'Minimum: OS X  Snow Leopard 10.6.3, 1GB RAM, 4GB Hard Drive Space,NVIDIA GeForce 8 or higher, ATI X1600 or higher, or Intel HD 3000 or higher Mouse, Keyboard, Internet Connection'}, u'header_image': u'http://cdn.akamai.steamstatic.com/steam/apps/20/header.jpg?t=1447350811'}, u'success': True})])\n"
     ]
    }
   ],
   "source": [
    "for id_app in df_steam_ids.appid.values[:5]:\n",
    "    api_call = requests.get('http://store.steampowered.com/api/appdetails/?appids='+str(id_app))\n",
    "    app_desc = json.loads(api_call.text)\n",
    "    print app_desc.viewitems()"
   ]
  },
  {
   "cell_type": "code",
   "execution_count": 23,
   "metadata": {},
   "outputs": [
    {
     "data": {
      "text/plain": [
       "u'{\"20\":{\"success\":true,\"data\":{\"type\":\"game\",\"name\":\"Team Fortress Classic\",\"steam_appid\":20,\"required_age\":0,\"is_free\":false,\"detailed_description\":\"One of the most popular online action games of all time, Team Fortress Classic features over nine character classes -- from Medic to Spy to Demolition Man -- enlisted in a unique style of online team warfare. Each character class possesses unique weapons, items, and abilities, as teams compete online in a variety of game play modes.\",\"about_the_game\":\"One of the most popular online action games of all time, Team Fortress Classic features over nine character classes -- from Medic to Spy to Demolition Man -- enlisted in a unique style of online team warfare. Each character class possesses unique weapons, items, and abilities, as teams compete online in a variety of game play modes.\",\"short_description\":\"\",\"supported_languages\":\"English, French, German, Italian, Spanish\",\"header_image\":\"http:\\\\/\\\\/cdn.akamai.steamstatic.com\\\\/steam\\\\/apps\\\\/20\\\\/header.jpg?t=1447350811\",\"website\":null,\"pc_requirements\":{\"minimum\":\"\\\\n\\\\t\\\\t\\\\t<p><strong>Minimum:<\\\\/strong> 500 mhz processor, 96mb ram, 16mb video card, Windows XP, Mouse, Keyboard, Internet Connection<br \\\\/><\\\\/p>\\\\n\\\\t\\\\t\\\\t<p><strong>Recommended:<\\\\/strong> 800 mhz processor, 128mb ram, 32mb+ video card, Windows XP, Mouse, Keyboard, Internet Connection<br \\\\/><\\\\/p>\\\\n\\\\t\\\\t\\\\t\"},\"mac_requirements\":{\"minimum\":\"Minimum: OS X  Snow Leopard 10.6.3, 1GB RAM, 4GB Hard Drive Space,NVIDIA GeForce 8 or higher, ATI X1600 or higher, or Intel HD 3000 or higher Mouse, Keyboard, Internet Connection\"},\"linux_requirements\":{\"minimum\":\"Minimum: Linux Ubuntu 12.04, Dual-core from Intel or AMD at 2.8 GHz, 1GB Memory, nVidia GeForce 8600\\\\/9600GT, ATI\\\\/AMD Radeaon HD2600\\\\/3600 (Graphic Drivers: nVidia 310, AMD 12.11), OpenGL 2.1, 4GB Hard Drive Space, OpenAL Compatible Sound Card\"},\"developers\":[\"Valve\"],\"publishers\":[\"Valve\"],\"price_overview\":{\"currency\":\"GBP\",\"initial\":399,\"final\":399,\"discount_percent\":0},\"packages\":[29],\"package_groups\":[{\"name\":\"default\",\"title\":\"Buy Team Fortress Classic\",\"description\":\"\",\"selection_text\":\"Select a purchase option\",\"save_text\":\"\",\"display_type\":0,\"is_recurring_subscription\":\"false\",\"subs\":[{\"packageid\":29,\"percent_savings_text\":\"\",\"percent_savings\":0,\"option_text\":\"Team Fortress Classic - \\\\u00a33.99\",\"option_description\":\"\",\"can_get_free_license\":\"0\",\"is_free_license\":false,\"price_in_cents_with_discount\":399}]}],\"platforms\":{\"windows\":true,\"mac\":true,\"linux\":true},\"categories\":[{\"id\":1,\"description\":\"Multi-player\"},{\"id\":8,\"description\":\"Valve Anti-Cheat enabled\"}],\"genres\":[{\"id\":\"1\",\"description\":\"Action\"}],\"screenshots\":[{\"id\":0,\"path_thumbnail\":\"http:\\\\/\\\\/cdn.akamai.steamstatic.com\\\\/steam\\\\/apps\\\\/20\\\\/0000000164.600x338.jpg?t=1447350811\",\"path_full\":\"http:\\\\/\\\\/cdn.akamai.steamstatic.com\\\\/steam\\\\/apps\\\\/20\\\\/0000000164.1920x1080.jpg?t=1447350811\"},{\"id\":1,\"path_thumbnail\":\"http:\\\\/\\\\/cdn.akamai.steamstatic.com\\\\/steam\\\\/apps\\\\/20\\\\/0000000165.600x338.jpg?t=1447350811\",\"path_full\":\"http:\\\\/\\\\/cdn.akamai.steamstatic.com\\\\/steam\\\\/apps\\\\/20\\\\/0000000165.1920x1080.jpg?t=1447350811\"},{\"id\":2,\"path_thumbnail\":\"http:\\\\/\\\\/cdn.akamai.steamstatic.com\\\\/steam\\\\/apps\\\\/20\\\\/0000000166.600x338.jpg?t=1447350811\",\"path_full\":\"http:\\\\/\\\\/cdn.akamai.steamstatic.com\\\\/steam\\\\/apps\\\\/20\\\\/0000000166.1920x1080.jpg?t=1447350811\"},{\"id\":3,\"path_thumbnail\":\"http:\\\\/\\\\/cdn.akamai.steamstatic.com\\\\/steam\\\\/apps\\\\/20\\\\/0000000167.600x338.jpg?t=1447350811\",\"path_full\":\"http:\\\\/\\\\/cdn.akamai.steamstatic.com\\\\/steam\\\\/apps\\\\/20\\\\/0000000167.1920x1080.jpg?t=1447350811\"},{\"id\":4,\"path_thumbnail\":\"http:\\\\/\\\\/cdn.akamai.steamstatic.com\\\\/steam\\\\/apps\\\\/20\\\\/0000000168.600x338.jpg?t=1447350811\",\"path_full\":\"http:\\\\/\\\\/cdn.akamai.steamstatic.com\\\\/steam\\\\/apps\\\\/20\\\\/0000000168.1920x1080.jpg?t=1447350811\"}],\"recommendations\":{\"total\":3019},\"achievements\":{\"total\":0},\"release_date\":{\"coming_soon\":false,\"date\":\"1 Apr, 1999\"},\"support_info\":{\"url\":\"\",\"email\":\"\"},\"background\":\"http:\\\\/\\\\/cdn.akamai.steamstatic.com\\\\/steam\\\\/apps\\\\/20\\\\/page_bg_generated_v6b.jpg?t=1447350811\"}}}'"
      ]
     },
     "execution_count": 23,
     "metadata": {},
     "output_type": "execute_result"
    }
   ],
   "source": [
    "scrap.text"
   ]
  }
 ],
 "metadata": {
  "kernelspec": {
   "display_name": "Python 2",
   "language": "python",
   "name": "python2"
  },
  "language_info": {
   "codemirror_mode": {
    "name": "ipython",
    "version": 2
   },
   "file_extension": ".py",
   "mimetype": "text/x-python",
   "name": "python",
   "nbconvert_exporter": "python",
   "pygments_lexer": "ipython2",
   "version": "2.7.13"
  }
 },
 "nbformat": 4,
 "nbformat_minor": 2
}
