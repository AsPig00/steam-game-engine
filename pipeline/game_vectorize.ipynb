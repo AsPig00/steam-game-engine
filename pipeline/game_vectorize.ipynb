{
 "cells": [
  {
   "cell_type": "code",
   "execution_count": 12,
   "metadata": {
    "collapsed": true
   },
   "outputs": [],
   "source": [
    "import gensim\n",
    "from gensim.models.keyedvectors import KeyedVectors\n",
    "from gensim.scripts.glove2word2vec import glove2word2vec\n",
    "import pandas as pd\n",
    "import cPickle as pickle\n",
    "import numpy as np\n",
    "import os\n",
    "app_path = '/Users/nmouterde/Documents/projectsPython/steam-game-engine/'"
   ]
  },
  {
   "cell_type": "code",
   "execution_count": 41,
   "metadata": {
    "collapsed": true
   },
   "outputs": [],
   "source": [
    "data = pickle.load(open(os.path.join(app_path, 'data_processed/tf_idf_data.p'), 'rb'))\n",
    "names_tfidf = pickle.load(open(os.path.join(app_path, 'data_processed/names_tf_idf.p'), 'rb'))\n",
    "names_tfidf = np.array(names_tfidf)"
   ]
  },
  {
   "cell_type": "code",
   "execution_count": 11,
   "metadata": {},
   "outputs": [
    {
     "data": {
      "text/plain": [
       "(1193514, 200)"
      ]
     },
     "execution_count": 11,
     "metadata": {},
     "output_type": "execute_result"
    }
   ],
   "source": [
    "glove2word2vec(os.path.join(app_path, 'models/glove.twitter.27B.200d.txt'),\n",
    "                            os.path.join(app_path, 'models/glove_w2v_200'))"
   ]
  },
  {
   "cell_type": "code",
   "execution_count": 13,
   "metadata": {
    "collapsed": true
   },
   "outputs": [],
   "source": [
    "model = KeyedVectors.load_word2vec_format(os.path.join(app_path, 'models/glove_w2v_200'))"
   ]
  },
  {
   "cell_type": "code",
   "execution_count": 70,
   "metadata": {
    "collapsed": true
   },
   "outputs": [],
   "source": [
    "def construct_vector(row):\n",
    "    coeff = 0\n",
    "    vector = np.zeros(200)\n",
    "    for w in row['cat1']:\n",
    "        if w in model:\n",
    "            vector = vector + model[w]*1.5\n",
    "            coeff += 1.5\n",
    "    for w in row['cat2']:\n",
    "        if w in model:\n",
    "            vector = vector + model[w]\n",
    "            coeff += 1\n",
    "    for w in row['cat3']:\n",
    "        if (w in model) and (w in names_tfidf):\n",
    "            idx_tfidf = np.where(names_tfidf == w)[0][0]\n",
    "            tfidf_score = row['tfidf_score'][idx_tfidf]\n",
    "            c = tfidf_score*0.5\n",
    "            coeff+=c\n",
    "            vector = vector + model[w]*c\n",
    "        \n",
    "    vector = vector/coeff\n",
    "    return vector.tolist()"
   ]
  },
  {
   "cell_type": "code",
   "execution_count": 75,
   "metadata": {
    "collapsed": true,
    "scrolled": true
   },
   "outputs": [],
   "source": [
    "data['vec'] = data.apply(lambda x: construct_vector(x), axis=1)"
   ]
  },
  {
   "cell_type": "code",
   "execution_count": 98,
   "metadata": {
    "collapsed": true,
    "scrolled": true
   },
   "outputs": [],
   "source": [
    "write_line = data.apply(lambda x: str(x['id']) + ' ' + \n",
    "                        str(x['vec']).replace(',','')\n",
    "                        .replace('[', '')\n",
    "                        .replace(']', ''),\n",
    "                        axis=1)"
   ]
  },
  {
   "cell_type": "code",
   "execution_count": 106,
   "metadata": {
    "collapsed": true
   },
   "outputs": [],
   "source": [
    "fichier = open(os.path.join(app_path, \"models/gamevectors\"), \"w\") "
   ]
  },
  {
   "cell_type": "code",
   "execution_count": 107,
   "metadata": {
    "collapsed": true
   },
   "outputs": [],
   "source": [
    "for line in write_line.values:\n",
    "    fichier.write(line+'\\n')\n"
   ]
  },
  {
   "cell_type": "code",
   "execution_count": 110,
   "metadata": {},
   "outputs": [
    {
     "data": {
      "text/plain": [
       "(2, 200)"
      ]
     },
     "execution_count": 110,
     "metadata": {},
     "output_type": "execute_result"
    }
   ],
   "source": [
    "fichier.close()\n",
    "glove2word2vec(os.path.join(app_path, \"models/gamevectors\"),\n",
    "               os.path.join(app_path, \"models/gamevectors_w2c\"))"
   ]
  },
  {
   "cell_type": "code",
   "execution_count": 111,
   "metadata": {
    "collapsed": true
   },
   "outputs": [],
   "source": [
    "model2 = KeyedVectors.load_word2vec_format(os.path.join(app_path, 'models/gamevectors_w2c'))"
   ]
  },
  {
   "cell_type": "code",
   "execution_count": 120,
   "metadata": {},
   "outputs": [
    {
     "data": {
      "text/plain": [
       "[(u'20', 0.5311635136604309), (u'10', 0.46505841612815857)]"
      ]
     },
     "execution_count": 120,
     "metadata": {},
     "output_type": "execute_result"
    }
   ],
   "source": [
    "vector = model['king']\n",
    "model2.most_similar([vector])"
   ]
  }
 ],
 "metadata": {
  "kernelspec": {
   "display_name": "Python 2",
   "language": "python",
   "name": "python2"
  },
  "language_info": {
   "codemirror_mode": {
    "name": "ipython",
    "version": 2
   },
   "file_extension": ".py",
   "mimetype": "text/x-python",
   "name": "python",
   "nbconvert_exporter": "python",
   "pygments_lexer": "ipython2",
   "version": "2.7.13"
  }
 },
 "nbformat": 4,
 "nbformat_minor": 2
}
