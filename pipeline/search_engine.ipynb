{
 "cells": [
  {
   "cell_type": "code",
   "execution_count": 1,
   "metadata": {},
   "outputs": [
    {
     "name": "stderr",
     "output_type": "stream",
     "text": [
      "Using TensorFlow backend.\n"
     ]
    }
   ],
   "source": [
    "import gensim\n",
    "from gensim.models.keyedvectors import KeyedVectors\n",
    "import pandas as pd\n",
    "import cPickle as pickle\n",
    "import numpy as np\n",
    "import os\n",
    "app_path = '/Users/nmouterde/Documents/projectsPython/steam-game-engine/'"
   ]
  },
  {
   "cell_type": "code",
   "execution_count": 2,
   "metadata": {
    "collapsed": true
   },
   "outputs": [],
   "source": [
    "word_model = KeyedVectors.load_word2vec_format(os.path.join(app_path, 'models/glove_w2v_200'))\n",
    "game_model = KeyedVectors.load_word2vec_format(os.path.join(app_path, 'models/gamevectors_w2c'))"
   ]
  },
  {
   "cell_type": "code",
   "execution_count": 19,
   "metadata": {
    "collapsed": true
   },
   "outputs": [],
   "source": [
    "def search_game(search_sentences):\n",
    "    words = search_sentences.split()\n",
    "    search_vec = np.zeros(200)\n",
    "    counter_w = 0\n",
    "    for w in words:\n",
    "        if w in word_model:\n",
    "            search_vec = search_vec + word_model[w]\n",
    "            counter_w+=1\n",
    "        search_vec = search_vec/counter_w\n",
    "    results = game_model.most_similar([search_vec], topn=10)\n",
    "    return results"
   ]
  },
  {
   "cell_type": "code",
   "execution_count": 3,
   "metadata": {
    "collapsed": true
   },
   "outputs": [],
   "source": [
    "data = pickle.load(open(os.path.join(app_path, 'data_processed/tf_idf_data.p'), 'rb'))"
   ]
  },
  {
   "cell_type": "code",
   "execution_count": 20,
   "metadata": {},
   "outputs": [],
   "source": [
    "search_results = search_game('kid fun')"
   ]
  },
  {
   "cell_type": "code",
   "execution_count": 33,
   "metadata": {},
   "outputs": [],
   "source": [
    "df_result = pd.DataFrame.from_records(search_results, columns=['id', 'similarity'])"
   ]
  },
  {
   "cell_type": "code",
   "execution_count": 36,
   "metadata": {
    "collapsed": true
   },
   "outputs": [],
   "source": [
    "df_result['id'] = df_result.id.astype(np.int64)"
   ]
  },
  {
   "cell_type": "code",
   "execution_count": 37,
   "metadata": {},
   "outputs": [],
   "source": [
    "df_result = pd.merge(df_result, data, on='id')"
   ]
  },
  {
   "cell_type": "code",
   "execution_count": 39,
   "metadata": {},
   "outputs": [
    {
     "data": {
      "text/html": [
       "<div>\n",
       "<style>\n",
       "    .dataframe thead tr:only-child th {\n",
       "        text-align: right;\n",
       "    }\n",
       "\n",
       "    .dataframe thead th {\n",
       "        text-align: left;\n",
       "    }\n",
       "\n",
       "    .dataframe tbody tr th {\n",
       "        vertical-align: top;\n",
       "    }\n",
       "</style>\n",
       "<table border=\"1\" class=\"dataframe\">\n",
       "  <thead>\n",
       "    <tr style=\"text-align: right;\">\n",
       "      <th></th>\n",
       "      <th>id</th>\n",
       "      <th>similarity</th>\n",
       "      <th>name</th>\n",
       "      <th>f_desc</th>\n",
       "      <th>s_desc</th>\n",
       "      <th>about</th>\n",
       "      <th>dev</th>\n",
       "      <th>pub</th>\n",
       "      <th>cat</th>\n",
       "      <th>genres</th>\n",
       "      <th>score</th>\n",
       "      <th>nb_rec</th>\n",
       "      <th>cat1</th>\n",
       "      <th>cat2</th>\n",
       "      <th>cat3</th>\n",
       "      <th>cat1_non_tk</th>\n",
       "      <th>cat2_non_tk</th>\n",
       "      <th>cat3_non_tk</th>\n",
       "      <th>tfidf_score</th>\n",
       "    </tr>\n",
       "  </thead>\n",
       "  <tbody>\n",
       "    <tr>\n",
       "      <th>0</th>\n",
       "      <td>20</td>\n",
       "      <td>0.689824</td>\n",
       "      <td>Team Fortress Classic</td>\n",
       "      <td>One of the most popular online action games of...</td>\n",
       "      <td></td>\n",
       "      <td>One of the most popular online action games of...</td>\n",
       "      <td>Valve</td>\n",
       "      <td>Valve</td>\n",
       "      <td>Multi-player Valve Anti-Cheat enabled</td>\n",
       "      <td>Action</td>\n",
       "      <td>53</td>\n",
       "      <td>3022</td>\n",
       "      <td>[team, fortress, classic]</td>\n",
       "      <td>[multi, player, valve, anti, cheat, enabled, a...</td>\n",
       "      <td>[one, popular, online, action, games, time, te...</td>\n",
       "      <td>team fortress classic</td>\n",
       "      <td>multi player valve anti cheat enabled action</td>\n",
       "      <td>one popular online action games time team fort...</td>\n",
       "      <td>[0.182922459524, 0.130150836523, 0.0, 0.0, 0.0...</td>\n",
       "    </tr>\n",
       "    <tr>\n",
       "      <th>1</th>\n",
       "      <td>10</td>\n",
       "      <td>0.642710</td>\n",
       "      <td>Counter-Strike</td>\n",
       "      <td>Play the world's number 1 online action game. ...</td>\n",
       "      <td></td>\n",
       "      <td>Play the world's number 1 online action game. ...</td>\n",
       "      <td>Valve</td>\n",
       "      <td>Valve</td>\n",
       "      <td>Multi-player Valve Anti-Cheat enabled</td>\n",
       "      <td>Action</td>\n",
       "      <td>97</td>\n",
       "      <td>93978</td>\n",
       "      <td>[counter, strike]</td>\n",
       "      <td>[multi, player, valve, anti, cheat, enabled, a...</td>\n",
       "      <td>[play, world, number, online, action, game, en...</td>\n",
       "      <td>counter strike</td>\n",
       "      <td>multi player valve anti cheat enabled action</td>\n",
       "      <td>play world number online action game engage in...</td>\n",
       "      <td>[0.0, 0.132415775449, 0.262294449085, 0.186105...</td>\n",
       "    </tr>\n",
       "  </tbody>\n",
       "</table>\n",
       "</div>"
      ],
      "text/plain": [
       "   id  similarity                   name  \\\n",
       "0  20    0.689824  Team Fortress Classic   \n",
       "1  10    0.642710         Counter-Strike   \n",
       "\n",
       "                                              f_desc s_desc  \\\n",
       "0  One of the most popular online action games of...          \n",
       "1  Play the world's number 1 online action game. ...          \n",
       "\n",
       "                                               about    dev    pub  \\\n",
       "0  One of the most popular online action games of...  Valve  Valve   \n",
       "1  Play the world's number 1 online action game. ...  Valve  Valve   \n",
       "\n",
       "                                     cat  genres  score  nb_rec  \\\n",
       "0  Multi-player Valve Anti-Cheat enabled  Action     53    3022   \n",
       "1  Multi-player Valve Anti-Cheat enabled  Action     97   93978   \n",
       "\n",
       "                        cat1  \\\n",
       "0  [team, fortress, classic]   \n",
       "1          [counter, strike]   \n",
       "\n",
       "                                                cat2  \\\n",
       "0  [multi, player, valve, anti, cheat, enabled, a...   \n",
       "1  [multi, player, valve, anti, cheat, enabled, a...   \n",
       "\n",
       "                                                cat3            cat1_non_tk  \\\n",
       "0  [one, popular, online, action, games, time, te...  team fortress classic   \n",
       "1  [play, world, number, online, action, game, en...         counter strike   \n",
       "\n",
       "                                    cat2_non_tk  \\\n",
       "0  multi player valve anti cheat enabled action   \n",
       "1  multi player valve anti cheat enabled action   \n",
       "\n",
       "                                         cat3_non_tk  \\\n",
       "0  one popular online action games time team fort...   \n",
       "1  play world number online action game engage in...   \n",
       "\n",
       "                                         tfidf_score  \n",
       "0  [0.182922459524, 0.130150836523, 0.0, 0.0, 0.0...  \n",
       "1  [0.0, 0.132415775449, 0.262294449085, 0.186105...  "
      ]
     },
     "execution_count": 39,
     "metadata": {},
     "output_type": "execute_result"
    }
   ],
   "source": [
    "df_result"
   ]
  }
 ],
 "metadata": {
  "kernelspec": {
   "display_name": "Python 2",
   "language": "python",
   "name": "python2"
  },
  "language_info": {
   "codemirror_mode": {
    "name": "ipython",
    "version": 2
   },
   "file_extension": ".py",
   "mimetype": "text/x-python",
   "name": "python",
   "nbconvert_exporter": "python",
   "pygments_lexer": "ipython2",
   "version": "2.7.13"
  }
 },
 "nbformat": 4,
 "nbformat_minor": 2
}
