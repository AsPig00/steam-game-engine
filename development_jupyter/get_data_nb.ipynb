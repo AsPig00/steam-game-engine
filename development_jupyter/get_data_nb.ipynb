{
 "cells": [
  {
   "cell_type": "code",
   "execution_count": 241,
   "metadata": {
    "collapsed": true
   },
   "outputs": [],
   "source": [
    "import numpy as np\n",
    "import pandas as pd\n",
    "import requests\n",
    "import json\n",
    "import os\n",
    "import cPickle as pickle\n",
    "from time import sleep"
   ]
  },
  {
   "cell_type": "code",
   "execution_count": 49,
   "metadata": {
    "collapsed": true
   },
   "outputs": [],
   "source": [
    "api_key = ''\n",
    "\n",
    "steam_id_url = 'http://api.steampowered.com/ISteamApps/GetAppList/v2'\n",
    "steam_details_api = 'http://store.steampowered.com/api/appdetails/?appids='\n",
    "ratings_api = 'http://steamspy.com/api.php?request=appdetails&appid='\n",
    "app_path = '/Users/nmouterde/Documents/projectsPython/steam-game-engine/'"
   ]
  },
  {
   "cell_type": "code",
   "execution_count": 55,
   "metadata": {
    "collapsed": true
   },
   "outputs": [],
   "source": [
    "steam_ids = requests.get(steam_id_url)"
   ]
  },
  {
   "cell_type": "code",
   "execution_count": 56,
   "metadata": {
    "collapsed": true
   },
   "outputs": [],
   "source": [
    "steam_ids = json.loads(steam_ids.text)"
   ]
  },
  {
   "cell_type": "code",
   "execution_count": 57,
   "metadata": {
    "collapsed": true
   },
   "outputs": [],
   "source": [
    "df_steam_ids = pd.DataFrame.from_dict(steam_ids['applist']['apps'])"
   ]
  },
  {
   "cell_type": "code",
   "execution_count": null,
   "metadata": {
    "collapsed": true
   },
   "outputs": [],
   "source": [
    "games = []\n",
    "i=0"
   ]
  },
  {
   "cell_type": "code",
   "execution_count": 325,
   "metadata": {
    "scrolled": true
   },
   "outputs": [
    {
     "name": "stdout",
     "output_type": "stream",
     "text": [
      "0\n",
      "500\n",
      "1000\n",
      "1500\n",
      "2000\n",
      "2500\n",
      "3000\n",
      "3500\n",
      "4000\n",
      "4500\n",
      "5000\n",
      "5500\n"
     ]
    }
   ],
   "source": [
    "for id_app in df_steam_ids.appid.values:\n",
    "    api_call = requests.get(steam_details_api + str(id_app))\n",
    "    rates_call = requests.get(ratings_api + str(id_app))\n",
    "    rates = json.loads(rates_call.text)\n",
    "    app_desc = json.loads(api_call.text)\n",
    "    while(app_desc == None):\n",
    "        sleep(120)\n",
    "        api_call = requests.get(steam_details_api + str(id_app))\n",
    "        rates_call = requests.get(ratings_api + str(id_app))\n",
    "        rates = json.loads(rates_call.text)\n",
    "        app_desc = json.loads(api_call.text)\n",
    "    game = app_desc[app_desc.keys()[0]]\n",
    "    if game['success']:\n",
    "        game_info = game['data']\n",
    "        if game_info['type'] == \"game\":\n",
    "            #Treating special categories\n",
    "            if 'categories' in game_info:\n",
    "                cats = [cat['description'] for cat in game_info['categories']]\n",
    "                cats = ' '.join(cats)\n",
    "            else:\n",
    "                cats = ' '\n",
    "\n",
    "            if 'recommendations' not in game_info:\n",
    "                rec = 0\n",
    "            else:\n",
    "                rec = game_info['recommendations']['total']\n",
    "\n",
    "            if 'developers' in game_info:\n",
    "                dev = game_info['developers'][0]\n",
    "            else:\n",
    "                dev = ' '\n",
    "\n",
    "            if 'genres' in game_info:\n",
    "                genres = [genre['description'] for genre in game_info['genres']]\n",
    "                genres = ' '.join(genres)\n",
    "            else:\n",
    "                genre = ' '\n",
    "\n",
    "            new_game = [game_info['steam_appid'], game_info['name'],\n",
    "                          game_info['detailed_description'],\n",
    "                          game_info['short_description'], \n",
    "                          game_info['about_the_game'],\n",
    "                          dev,\n",
    "                          game_info['publishers'][0],\n",
    "                          cats, genres,\n",
    "                          rates['score_rank'],\n",
    "                          rec]\n",
    "\n",
    "\n",
    "            games.append(new_game)\n",
    "            \n"
   ]
  },
  {
   "cell_type": "code",
   "execution_count": 327,
   "metadata": {},
   "outputs": [],
   "source": [
    "df_cols = ['id', 'name',\n",
    "           'f_desc', 's_desc','about',\n",
    "           'dev' , 'pub', 'cat',\n",
    "           'genres', 'score', 'nb_rec']\n",
    "\n",
    "df_info = pd.DataFrame.from_records(games, columns=df_cols)       "
   ]
  },
  {
   "cell_type": "code",
   "execution_count": 332,
   "metadata": {},
   "outputs": [],
   "source": [
    "df_info = df_info.drop_duplicates()"
   ]
  },
  {
   "cell_type": "code",
   "execution_count": 334,
   "metadata": {},
   "outputs": [],
   "source": [
    "pickle.dump(df_info, open(os.path.join(app_path, 'data_processed/scrap_df.f'), 'wb'))"
   ]
  },
  {
   "cell_type": "code",
   "execution_count": 213,
   "metadata": {},
   "outputs": [
    {
     "data": {
      "text/plain": [
       "'http://store.steampowered.com/api/appdetails/?appids=290380'"
      ]
     },
     "execution_count": 213,
     "metadata": {},
     "output_type": "execute_result"
    }
   ],
   "source": [
    "api_call.text\n",
    "steam_details_api + str(id_app)"
   ]
  }
 ],
 "metadata": {
  "kernelspec": {
   "display_name": "Python 2",
   "language": "python",
   "name": "python2"
  },
  "language_info": {
   "codemirror_mode": {
    "name": "ipython",
    "version": 2
   },
   "file_extension": ".py",
   "mimetype": "text/x-python",
   "name": "python",
   "nbconvert_exporter": "python",
   "pygments_lexer": "ipython2",
   "version": "2.7.13"
  }
 },
 "nbformat": 4,
 "nbformat_minor": 2
}
